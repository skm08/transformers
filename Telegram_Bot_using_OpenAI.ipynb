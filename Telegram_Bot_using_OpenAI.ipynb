{
  "nbformat": 4,
  "nbformat_minor": 0,
  "metadata": {
    "colab": {
      "provenance": [],
      "authorship_tag": "ABX9TyMYZ1DkahrTfj/FpTQ8WzVa",
      "include_colab_link": true
    },
    "kernelspec": {
      "name": "python3",
      "display_name": "Python 3"
    },
    "language_info": {
      "name": "python"
    }
  },
  "cells": [
    {
      "cell_type": "markdown",
      "metadata": {
        "id": "view-in-github",
        "colab_type": "text"
      },
      "source": [
        "<a href=\"https://colab.research.google.com/github/skm08/transformers/blob/main/Telegram_Bot_using_OpenAI.ipynb\" target=\"_parent\"><img src=\"https://colab.research.google.com/assets/colab-badge.svg\" alt=\"Open In Colab\"/></a>"
      ]
    },
    {
      "cell_type": "code",
      "execution_count": null,
      "metadata": {
        "id": "U3jTTWnnqrFp"
      },
      "outputs": [],
      "source": [
        "from dotenv import load_dotenv\n",
        "import os\n",
        "from aiogram import Bot, Dispatcher, executor, types\n",
        "import openai\n",
        "import sys\n",
        "\n",
        "load_dotenv()\n",
        "openai.api_key = os.getenv(\"OpenAI_API_KEY\")\n",
        "TELEGRAM_BOT_TOKEN = os.getenv(\"TELEGRAM_BOT_TOKEN\")\n",
        "\n",
        "class Reference:\n",
        "  def __init__(self) -> None:\n",
        "    self.reference = \"\"\n",
        "\n",
        "reference = Reference()\n",
        "model_name = \"gpt-3.5-turbo\"\n",
        "\n",
        "# Initialize bot and dispatcher\n",
        "bot = Bot(token=TELEGRAM_BOT_TOKEN)\n",
        "dispatcher = Dispatcher(bot)\n",
        "\n",
        "def clear_past():\n",
        "  reference.response = \"\"\n",
        "\n",
        "@dispatcher.message_handler(commands='clear')\n",
        "async def clear(message: types.Message):\n",
        "  clear_past()\n",
        "  await message.reply(\"All conversation is cleared!\")\n",
        "\n",
        "@dispatcher.message_handler(commands=['start'])\n",
        "async def welcome(message: types.Message):\n",
        "  await message.reply(\"Hi\\nI am Telegram Bot connected with OpenAI GPT-3.5 Turbo\")\n",
        "\n",
        "@dispatcher.message_handler(commands=['help'])\n",
        "async def helper(message: types.Message):\n",
        "  help_command = \"\"\"This is an Helper Function!\"\"\"\n",
        "  await message.reply(help_command)\n",
        "\n",
        "@dispatcher.message_handler()\n",
        "async def chatgpt(message: types.Message):\n",
        "  print(f\">>> USER: \\n\\t{message.text}\")\n",
        "  response = openai.ChatCompletion.create(\n",
        "      model = model_name,\n",
        "      messages = [\n",
        "          {'role': 'assistant', 'content': reference.response},\n",
        "          {'role': 'user', 'content': message.text}\n",
        "      ]\n",
        "  )\n",
        "  reference.response = response['choices'][0]['message']['content']\n",
        "  print(f\">>> chatGPT: \\n\\t{reference.response}\")\n",
        "  await bot.send_message(chat_id=message.chat.id,text=reference.response)\n",
        "\n",
        "if __name__ == \"__main__\":\n",
        "  executor.start_polling(dispatcher, skip_updates=False)"
      ]
    }
  ]
}